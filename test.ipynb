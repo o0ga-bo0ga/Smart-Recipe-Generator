{
 "cells": [
  {
   "cell_type": "code",
   "execution_count": 7,
   "id": "d3b594fe",
   "metadata": {},
   "outputs": [],
   "source": [
    "import pandas as pd\n",
    "import numpy as np"
   ]
  },
  {
   "cell_type": "code",
   "execution_count": 14,
   "id": "7040c844",
   "metadata": {},
   "outputs": [
    {
     "name": "stdout",
     "output_type": "stream",
     "text": [
      "Defaulting to user installation because normal site-packages is not writeable\n",
      "Collecting langchain_pinecone\n",
      "  Downloading langchain_pinecone-0.2.12-py3-none-any.whl.metadata (8.6 kB)\n",
      "Requirement already satisfied: langchain-core<1.0.0,>=0.3.34 in /home/prakhar/.local/lib/python3.13/site-packages (from langchain_pinecone) (0.3.79)\n",
      "Requirement already satisfied: pinecone<8.0.0,>=6.0.0 in /home/prakhar/.local/lib/python3.13/site-packages (from pinecone[asyncio]<8.0.0,>=6.0.0->langchain_pinecone) (7.3.0)\n",
      "Requirement already satisfied: numpy>=1.26.4 in /home/prakhar/.local/lib/python3.13/site-packages (from langchain_pinecone) (2.2.6)\n",
      "Collecting langchain-openai>=0.3.11 (from langchain_pinecone)\n",
      "  Downloading langchain_openai-0.3.35-py3-none-any.whl.metadata (2.4 kB)\n",
      "Requirement already satisfied: httpx>=0.28.0 in /home/prakhar/.local/lib/python3.13/site-packages (from langchain_pinecone) (0.28.1)\n",
      "Collecting simsimd>=5.9.11 (from langchain_pinecone)\n",
      "  Downloading simsimd-6.5.3-cp313-cp313-manylinux_2_24_x86_64.manylinux_2_28_x86_64.whl.metadata (70 kB)\n",
      "Requirement already satisfied: anyio in /home/prakhar/.local/lib/python3.13/site-packages (from httpx>=0.28.0->langchain_pinecone) (4.11.0)\n",
      "Requirement already satisfied: certifi in /usr/lib/python3.13/site-packages (from httpx>=0.28.0->langchain_pinecone) (2024.8.30)\n",
      "Requirement already satisfied: httpcore==1.* in /home/prakhar/.local/lib/python3.13/site-packages (from httpx>=0.28.0->langchain_pinecone) (1.0.9)\n",
      "Requirement already satisfied: idna in /usr/lib/python3.13/site-packages (from httpx>=0.28.0->langchain_pinecone) (3.10)\n",
      "Requirement already satisfied: h11>=0.16 in /home/prakhar/.local/lib/python3.13/site-packages (from httpcore==1.*->httpx>=0.28.0->langchain_pinecone) (0.16.0)\n",
      "Requirement already satisfied: langsmith<1.0.0,>=0.3.45 in /home/prakhar/.local/lib/python3.13/site-packages (from langchain-core<1.0.0,>=0.3.34->langchain_pinecone) (0.4.34)\n",
      "Requirement already satisfied: tenacity!=8.4.0,<10.0.0,>=8.1.0 in /home/prakhar/.local/lib/python3.13/site-packages (from langchain-core<1.0.0,>=0.3.34->langchain_pinecone) (9.1.2)\n",
      "Requirement already satisfied: jsonpatch<2.0.0,>=1.33.0 in /home/prakhar/.local/lib/python3.13/site-packages (from langchain-core<1.0.0,>=0.3.34->langchain_pinecone) (1.33)\n",
      "Requirement already satisfied: PyYAML<7.0.0,>=5.3.0 in /usr/lib64/python3.13/site-packages (from langchain-core<1.0.0,>=0.3.34->langchain_pinecone) (6.0.2)\n",
      "Requirement already satisfied: typing-extensions<5.0.0,>=4.7.0 in /home/prakhar/.local/lib/python3.13/site-packages (from langchain-core<1.0.0,>=0.3.34->langchain_pinecone) (4.15.0)\n",
      "Requirement already satisfied: packaging<26.0.0,>=23.2.0 in /usr/lib/python3.13/site-packages (from langchain-core<1.0.0,>=0.3.34->langchain_pinecone) (24.2)\n",
      "Requirement already satisfied: pydantic<3.0.0,>=2.7.4 in /home/prakhar/.local/lib/python3.13/site-packages (from langchain-core<1.0.0,>=0.3.34->langchain_pinecone) (2.12.1)\n",
      "Collecting openai<3.0.0,>=1.104.2 (from langchain-openai>=0.3.11->langchain_pinecone)\n",
      "  Downloading openai-2.3.0-py3-none-any.whl.metadata (29 kB)\n",
      "Collecting tiktoken<1.0.0,>=0.7.0 (from langchain-openai>=0.3.11->langchain_pinecone)\n",
      "  Downloading tiktoken-0.12.0-cp313-cp313-manylinux_2_28_x86_64.whl.metadata (6.7 kB)\n",
      "Requirement already satisfied: pinecone-plugin-assistant<2.0.0,>=1.6.0 in /home/prakhar/.local/lib/python3.13/site-packages (from pinecone<8.0.0,>=6.0.0->pinecone[asyncio]<8.0.0,>=6.0.0->langchain_pinecone) (1.8.0)\n",
      "Requirement already satisfied: pinecone-plugin-interface<0.0.8,>=0.0.7 in /home/prakhar/.local/lib/python3.13/site-packages (from pinecone<8.0.0,>=6.0.0->pinecone[asyncio]<8.0.0,>=6.0.0->langchain_pinecone) (0.0.7)\n",
      "Requirement already satisfied: python-dateutil>=2.5.3 in /usr/lib/python3.13/site-packages (from pinecone<8.0.0,>=6.0.0->pinecone[asyncio]<8.0.0,>=6.0.0->langchain_pinecone) (2.8.2)\n",
      "Requirement already satisfied: urllib3>=1.26.5 in /usr/lib/python3.13/site-packages (from pinecone<8.0.0,>=6.0.0->pinecone[asyncio]<8.0.0,>=6.0.0->langchain_pinecone) (2.3.0)\n",
      "Requirement already satisfied: aiohttp>=3.9.0 in /home/prakhar/.local/lib/python3.13/site-packages (from pinecone[asyncio]<8.0.0,>=6.0.0->langchain_pinecone) (3.13.0)\n",
      "Collecting aiohttp-retry<3.0.0,>=2.9.1 (from pinecone[asyncio]<8.0.0,>=6.0.0->langchain_pinecone)\n",
      "  Downloading aiohttp_retry-2.9.1-py3-none-any.whl.metadata (8.8 kB)\n",
      "Requirement already satisfied: aiohappyeyeballs>=2.5.0 in /home/prakhar/.local/lib/python3.13/site-packages (from aiohttp>=3.9.0->pinecone[asyncio]<8.0.0,>=6.0.0->langchain_pinecone) (2.6.1)\n",
      "Requirement already satisfied: aiosignal>=1.4.0 in /home/prakhar/.local/lib/python3.13/site-packages (from aiohttp>=3.9.0->pinecone[asyncio]<8.0.0,>=6.0.0->langchain_pinecone) (1.4.0)\n",
      "Requirement already satisfied: attrs>=17.3.0 in /usr/lib/python3.13/site-packages (from aiohttp>=3.9.0->pinecone[asyncio]<8.0.0,>=6.0.0->langchain_pinecone) (25.1.0)\n",
      "Requirement already satisfied: frozenlist>=1.1.1 in /home/prakhar/.local/lib/python3.13/site-packages (from aiohttp>=3.9.0->pinecone[asyncio]<8.0.0,>=6.0.0->langchain_pinecone) (1.8.0)\n",
      "Requirement already satisfied: multidict<7.0,>=4.5 in /home/prakhar/.local/lib/python3.13/site-packages (from aiohttp>=3.9.0->pinecone[asyncio]<8.0.0,>=6.0.0->langchain_pinecone) (6.7.0)\n",
      "Requirement already satisfied: propcache>=0.2.0 in /home/prakhar/.local/lib/python3.13/site-packages (from aiohttp>=3.9.0->pinecone[asyncio]<8.0.0,>=6.0.0->langchain_pinecone) (0.4.1)\n",
      "Requirement already satisfied: yarl<2.0,>=1.17.0 in /home/prakhar/.local/lib/python3.13/site-packages (from aiohttp>=3.9.0->pinecone[asyncio]<8.0.0,>=6.0.0->langchain_pinecone) (1.22.0)\n",
      "Requirement already satisfied: jsonpointer>=1.9 in /home/prakhar/.local/lib/python3.13/site-packages (from jsonpatch<2.0.0,>=1.33.0->langchain-core<1.0.0,>=0.3.34->langchain_pinecone) (3.0.0)\n",
      "Requirement already satisfied: orjson>=3.9.14 in /home/prakhar/.local/lib/python3.13/site-packages (from langsmith<1.0.0,>=0.3.45->langchain-core<1.0.0,>=0.3.34->langchain_pinecone) (3.11.3)\n",
      "Requirement already satisfied: requests-toolbelt>=1.0.0 in /home/prakhar/.local/lib/python3.13/site-packages (from langsmith<1.0.0,>=0.3.45->langchain-core<1.0.0,>=0.3.34->langchain_pinecone) (1.0.0)\n",
      "Requirement already satisfied: requests>=2.0.0 in /home/prakhar/.local/lib/python3.13/site-packages (from langsmith<1.0.0,>=0.3.45->langchain-core<1.0.0,>=0.3.34->langchain_pinecone) (2.32.5)\n",
      "Requirement already satisfied: zstandard>=0.23.0 in /home/prakhar/.local/lib/python3.13/site-packages (from langsmith<1.0.0,>=0.3.45->langchain-core<1.0.0,>=0.3.34->langchain_pinecone) (0.25.0)\n",
      "Requirement already satisfied: distro<2,>=1.7.0 in /usr/lib/python3.13/site-packages (from openai<3.0.0,>=1.104.2->langchain-openai>=0.3.11->langchain_pinecone) (1.9.0)\n",
      "Collecting jiter<1,>=0.10.0 (from openai<3.0.0,>=1.104.2->langchain-openai>=0.3.11->langchain_pinecone)\n",
      "  Downloading jiter-0.11.0-cp313-cp313-manylinux_2_17_x86_64.manylinux2014_x86_64.whl.metadata (5.2 kB)\n",
      "Requirement already satisfied: sniffio in /home/prakhar/.local/lib/python3.13/site-packages (from openai<3.0.0,>=1.104.2->langchain-openai>=0.3.11->langchain_pinecone) (1.3.1)\n",
      "Requirement already satisfied: tqdm>4 in /home/prakhar/.local/lib/python3.13/site-packages (from openai<3.0.0,>=1.104.2->langchain-openai>=0.3.11->langchain_pinecone) (4.67.1)\n",
      "Requirement already satisfied: annotated-types>=0.6.0 in /home/prakhar/.local/lib/python3.13/site-packages (from pydantic<3.0.0,>=2.7.4->langchain-core<1.0.0,>=0.3.34->langchain_pinecone) (0.7.0)\n",
      "Requirement already satisfied: pydantic-core==2.41.3 in /home/prakhar/.local/lib/python3.13/site-packages (from pydantic<3.0.0,>=2.7.4->langchain-core<1.0.0,>=0.3.34->langchain_pinecone) (2.41.3)\n",
      "Requirement already satisfied: typing-inspection>=0.4.2 in /home/prakhar/.local/lib/python3.13/site-packages (from pydantic<3.0.0,>=2.7.4->langchain-core<1.0.0,>=0.3.34->langchain_pinecone) (0.4.2)\n",
      "Requirement already satisfied: six>=1.5 in /usr/lib/python3.13/site-packages (from python-dateutil>=2.5.3->pinecone<8.0.0,>=6.0.0->pinecone[asyncio]<8.0.0,>=6.0.0->langchain_pinecone) (1.17.0)\n",
      "Requirement already satisfied: regex>=2022.1.18 in /usr/lib64/python3.13/site-packages (from tiktoken<1.0.0,>=0.7.0->langchain-openai>=0.3.11->langchain_pinecone) (2024.11.6)\n",
      "Requirement already satisfied: charset_normalizer<4,>=2 in /usr/lib/python3.13/site-packages (from requests>=2.0.0->langsmith<1.0.0,>=0.3.45->langchain-core<1.0.0,>=0.3.34->langchain_pinecone) (3.4.1)\n",
      "Downloading langchain_pinecone-0.2.12-py3-none-any.whl (25 kB)\n",
      "Downloading langchain_openai-0.3.35-py3-none-any.whl (75 kB)\n",
      "Downloading simsimd-6.5.3-cp313-cp313-manylinux_2_24_x86_64.manylinux_2_28_x86_64.whl (1.1 MB)\n",
      "\u001b[2K   \u001b[90m━━━━━━━━━━━━━━━━━━━━━━━━━━━━━━━━━━━━━━━━\u001b[0m \u001b[32m1.1/1.1 MB\u001b[0m \u001b[31m505.7 kB/s\u001b[0m eta \u001b[36m0:00:00\u001b[0m00:01\u001b[0m00:01\u001b[0m\n",
      "\u001b[?25hDownloading aiohttp_retry-2.9.1-py3-none-any.whl (10.0 kB)\n",
      "Downloading openai-2.3.0-py3-none-any.whl (999 kB)\n",
      "\u001b[2K   \u001b[90m━━━━━━━━━━━━━━━━━━━━━━━━━━━━━━━━━━━━━━━\u001b[0m \u001b[32m999.8/999.8 kB\u001b[0m \u001b[31m630.1 kB/s\u001b[0m eta \u001b[36m0:00:00\u001b[0ma \u001b[36m0:00:01\u001b[0m\n",
      "\u001b[?25hDownloading tiktoken-0.12.0-cp313-cp313-manylinux_2_28_x86_64.whl (1.2 MB)\n",
      "\u001b[2K   \u001b[90m━━━━━━━━━━━━━━━━━━━━━━━━━━━━━━━━━━━━━━━━\u001b[0m \u001b[32m1.2/1.2 MB\u001b[0m \u001b[31m764.4 kB/s\u001b[0m eta \u001b[36m0:00:00\u001b[0ma \u001b[36m0:00:01\u001b[0m\n",
      "\u001b[?25hDownloading jiter-0.11.0-cp313-cp313-manylinux_2_17_x86_64.manylinux2014_x86_64.whl (347 kB)\n",
      "Installing collected packages: simsimd, jiter, tiktoken, openai, aiohttp-retry, langchain-openai, langchain_pinecone\n",
      "Successfully installed aiohttp-retry-2.9.1 jiter-0.11.0 langchain-openai-0.3.35 langchain_pinecone-0.2.12 openai-2.3.0 simsimd-6.5.3 tiktoken-0.12.0\n"
     ]
    }
   ],
   "source": [
    "!pip install langchain_pinecone"
   ]
  },
  {
   "cell_type": "code",
   "execution_count": 15,
   "id": "846763d3",
   "metadata": {},
   "outputs": [
    {
     "name": "stderr",
     "output_type": "stream",
     "text": [
      "/home/prakhar/.local/lib/python3.13/site-packages/langchain_pinecone/__init__.py:3: LangChainDeprecationWarning: As of langchain-core 0.3.0, LangChain uses pydantic v2 internally. The langchain_core.pydantic_v1 module was a compatibility shim for pydantic v1, and should no longer be used. Please update the code to import from Pydantic directly.\n",
      "\n",
      "For example, replace imports like: `from langchain_core.pydantic_v1 import BaseModel`\n",
      "with: `from pydantic import BaseModel`\n",
      "or the v1 compatibility namespace if you are working in a code base that has not been fully upgraded to pydantic 2 yet. \tfrom pydantic.v1 import BaseModel\n",
      "\n",
      "  from langchain_pinecone.vectorstores import Pinecone, PineconeVectorStore\n"
     ]
    }
   ],
   "source": [
    "import os\n",
    "import pandas as pd\n",
    "from dotenv import load_dotenv\n",
    "from langchain.docstore.document import Document\n",
    "from langchain_community.embeddings import HuggingFaceEmbeddings\n",
    "from langchain_pinecone import PineconeVectorStore"
   ]
  },
  {
   "cell_type": "code",
   "execution_count": 17,
   "id": "40b67b0d",
   "metadata": {},
   "outputs": [
    {
     "name": "stdout",
     "output_type": "stream",
     "text": [
      "Created 13501 documents from the CSV file.\n"
     ]
    }
   ],
   "source": [
    "documents = []\n",
    "for _, row in df.iterrows():\n",
    "    # Create a descriptive text string from the row's data\n",
    "    page_content = (\n",
    "        f\"Title: {row['Title']}, \"\n",
    "        f\"Ingredients: {row['Ingredients']}, \"\n",
    "        f\"Instructions: {row['Instructions']}, \"\n",
    "        f\"Image_Name: {row['Image_Name']}, \"\n",
    "        f\"Cleaned_Ingredients: {row['Cleaned_Ingredients']}\"\n",
    "    )\n",
    "    \n",
    "    # Create a Document object\n",
    "    doc = Document(page_content=page_content)\n",
    "    documents.append(doc)\n",
    "\n",
    "print(f\"Created {len(documents)} documents from the CSV file.\")\n",
    "# Example document content: \"Product Name: Quantum Laptop, Category: Electronics, ...\"\n"
   ]
  },
  {
   "cell_type": "code",
   "execution_count": 21,
   "id": "a3367591",
   "metadata": {},
   "outputs": [],
   "source": [
    "load_dotenv()\n",
    "\n",
    "# Check for API keys\n",
    "if not os.environ.get(\"PINECONE_API_KEY\"):\n",
    "    raise ValueError(\"PINECONE_API_KEY is not set in the environment variables.\")"
   ]
  },
  {
   "cell_type": "code",
   "execution_count": 23,
   "id": "2646b4f7",
   "metadata": {},
   "outputs": [
    {
     "name": "stdout",
     "output_type": "stream",
     "text": [
      "Upserting 13501 documents to Pinecone index 'recipe-index'...\n"
     ]
    }
   ],
   "source": [
    "# This model produces 1024-dimension vectors\n",
    "embeddings = HuggingFaceEmbeddings(model_name=\"sentence-transformers/all-roberta-large-v1\")\n",
    "\n",
    "# --- 4. Upsert to Pinecone ---\n",
    "print(f\"Upserting {len(documents)} documents to Pinecone index '{index_name}'...\")\n",
    "\n",
    "# This command creates embeddings and upserts them to the Pinecone index.\n",
    "# If the index does not exist, it will be created automatically.\n",
    "docsearch = PineconeVectorStore.from_documents(\n",
    "    documents=documents, \n",
    "    embedding=embeddings,\n",
    "    index_name=index_name\n",
    ")"
   ]
  },
  {
   "cell_type": "code",
   "execution_count": 29,
   "id": "79e881ee",
   "metadata": {},
   "outputs": [
    {
     "data": {
      "text/plain": [
       "<langchain_pinecone.vectorstores.PineconeVectorStore at 0x7f182c22fed0>"
      ]
     },
     "execution_count": 29,
     "metadata": {},
     "output_type": "execute_result"
    }
   ],
   "source": [
    "docsearch"
   ]
  },
  {
   "cell_type": "code",
   "execution_count": 24,
   "id": "42884786",
   "metadata": {},
   "outputs": [],
   "source": [
    "retriever = docsearch.as_retriever()"
   ]
  },
  {
   "cell_type": "code",
   "execution_count": 27,
   "id": "1f4aa864",
   "metadata": {},
   "outputs": [],
   "source": [
    "query = \"chicken and cheese recipies give plz\"\n",
    "retrieved_docs = retriever.invoke(query)"
   ]
  },
  {
   "cell_type": "code",
   "execution_count": 28,
   "id": "cc2c3512",
   "metadata": {},
   "outputs": [
    {
     "name": "stdout",
     "output_type": "stream",
     "text": [
      "\n",
      "--- Query ---\n",
      "chicken and cheese recipies give plz\n",
      "\n",
      "--- Retrieved Documents ---\n",
      "Content: Title: Mac and Cheese with Buffalo Chicken, Ingredients: ['2 1/4 cups all purpose flour', '1 1/2 tablespoons cayenne pepper', '1 1/2 tablespoons paprika', '1 1/2 tablespoons salt', '1 1/2 tablespoons ground cumin', '1 1/2 tablespoons ground coriander', '2 cups whole milk', '3 large eggs, beaten to blend', '4 cups cornflakes, ground to crumbs in processor', '1 pound chicken cutlets, cut crosswise into 1-inch-wide strips', 'Canola oil (for deep-frying)', '1 pound small elbow macaroni', '2 cups chopped green onions (about 8 large)', '2 tablespoons chopped fresh oregano', '8 tablespoons (1 stick) butter, divided', '3 cups chopped onions', '2 large garlic cloves, chopped', '1/2 cup all purpose flour', '4 cups whole milk', '1 pound extra-sharp cheddar cheese, coarsely grated (about 4 cups packed)', '8 ounces provolone cheese, coarsely grated (about 2 cups packed)', '2 teaspoons paprika', '1 teaspoon salt', '1 teaspoon freshly ground black pepper', \"1 cup hot pepper sauce (preferably Frank's RedHot Original)\"], Instructions: Whisk first 6 ingredients in deep medium bowl to blend. Place milk in second bowl, eggs in third bowl, and ground cornflakes in fourth bowl. Working with 4 chicken strips at a time, place in flour mixture and toss to coat. Dip same chicken strips into milk, then eggs, then cornflake crumbs, coating with each; arrange on sheet of foil.\n",
      "Pour oil into heavy medium saucepan to depth of 2 inches. Attach deep-fry thermometer to side of pan; heat oil to 335°F to 350°F. Working in batches, add coated chicken strips to hot oil and fry until golden and cooked through, turning occasionally, about 3 minutes. Using slotted spoon, transfer chicken strips to paper towels to drain. Cut strips into 1-inch-long pieces.\n",
      "Cook macaroni in large pot of boiling salted water until just tender but still firm to bite. Drain; transfer to very large bowl. Mix in green onions and oregano.\n",
      "Melt 6 tablespoons butter in same large pot over medium heat. Add 3 cups chopped onions and garlic. Cover; sauté until onions are soft but not brown, stirring often, about 6 minutes. Add flour; stir 2 minutes. Gradually whisk in milk. Bring to boil, whisking constantly. Reduce heat and simmer sauce 2 minutes. Add all cheeses, paprika, 1 teaspoon salt, and 1 teaspoon pepper. Whisk until cheeses melt and sauce is smooth, about 2 minutes. Remove from heat. Season to taste with more salt and pepper, if desired. Mix cheese sauce into macaroni. Mix in chicken pieces. Mound mixture in 13x9x2-inch glass baking dish. DO AHEAD Can be prepared 2 hours ahead. Let stand at room temperature.\n",
      "Preheat oven to 350°F. Stir hot pepper sauce and remaining 2 tablespoons butter in small saucepan over medium heat until butter melts; spoon 4 tablespoons over macaroni in dish. Bake macaroni uncovered until heated through, about 30 minutes, or 45 minutes if made ahead. Serve, passing remaining butter and hot-sauce mixture separately., Image_Name: mac-and-cheese-with-buffalo-chicken-237102, Cleaned_Ingredients: ['2 1/4 cups all purpose flour', '1 1/2 tablespoons cayenne pepper', '1 1/2 tablespoons paprika', '1 1/2 tablespoons salt', '1 1/2 tablespoons ground cumin', '1 1/2 tablespoons ground coriander', '2 cups whole milk', '3 large eggs, beaten to blend', '4 cups cornflakes, ground to crumbs in processor', '1 pound chicken cutlets, cut crosswise into 1-inch-wide strips', 'Canola oil (for deep-frying)', '1 pound small elbow macaroni', '2 cups chopped green onions (about 8 large)', '2 tablespoons chopped fresh oregano', '8 tablespoons (1 stick) butter, divided', '3 cups chopped onions', '2 large garlic cloves, chopped', '1/2 cup all purpose flour', '4 cups whole milk', '1 pound extra-sharp cheddar cheese, coarsely grated (about 4 cups packed)', '8 ounces provolone cheese, coarsely grated (about 2 cups packed)', '2 teaspoons paprika', '1 teaspoon salt', '1 teaspoon freshly ground black pepper', '\"1 cup hot pepper sauce (preferably Franks RedHot Original)\"']\n",
      "Metadata: {}\n",
      "--------------------\n",
      "Content: Title: Cheesy Chicken Melt With All of the Onions Relish, Ingredients: ['4 teaspoons vegetable oil', '2 boneless, skinless chicken breasts, about 1 pound (450g), sliced lengthwise into 4 flat 1⁄2-inch-thick (1.3cm-thick) pieces', '1 teaspoon kosher salt', '1⁄2 yellow onion, sliced', '1 teaspoon distilled white vinegar', '1⁄2 red onion, thinly sliced', '1⁄2 bunch scallions, white and green parts, thinly sliced', '2 tablespoons fried shallots (store-bought is totally great)', '3 tablespoons salted butter', '4 slices rye bread', '4 slices good melting cheese, such as Colby Jack or Muenster'], Instructions: Heat a large sauté pan with 2 teaspoons of the vegetable oil over high heat until it is smoking. Season the chicken with 3⁄4 teaspoon of the salt and gently place it in the pan. Cook on one side until almost cooked all the way through, about 5 minutes. Flip the chicken and cook on the other side for about 30 seconds, or until it is no longer pink. Transfer the chicken to a plate to rest.\n",
      "Immediately add the yellow onion and the remaining 2 teaspoons vegetable oil to the pan. Stir and cook for 5 minutes, or until the onion is dark and smells amazing but is not burnt. If it’s getting too dark, lower the heat. Add the vinegar, along with the liquid that has collected on the plate where the chicken is resting, and turn the heat to low. Simmer the onion for 2 to 4 minutes, or until the liquid has evaporated. Transfer the onion to a bowl, using a rubber spatula to scrape the pan out completely. When the onion has cooled down a little, about 5 minutes, add the red onion, scallions, fried shallots, and remaining 1⁄4 teaspoon salt and stir to combine.\n",
      "Melt 2 tablespoons of the butter in the same pan. Lay out two slices of bread on your work surface and place a slice of cheese on each. Top each piece of cheese with half of the onions, two pieces of chicken, and another slice of cheese, and cover with another slice of bread. Place the sandwiches in the pan with the melted butter. Cook over medium heat, about 3 minutes, until the cheese on the bottom slice is melted and the bread is nicely toasted. Add the remaining 1 tablespoon butter to the pan and flip the sandwiches. Cook them for another 1 to 2 minutes, until the cheese is melted and the bottom is toasty. Remove the sandwiches from the pan, cut them in half, and insert a frilly toothpick or cocktail sword near the top in each half and serve., Image_Name: cheesy-chicken-melt-onion-relish-tyler-kord, Cleaned_Ingredients: ['4 teaspoons vegetable oil', '2 boneless, skinless chicken breasts, about 1 pound (450g), sliced lengthwise into 4 flat 1⁄2-inch-thick (1.3cm-thick) pieces', '1 teaspoon kosher salt', '1⁄2 yellow onion, sliced', '1 teaspoon distilled white vinegar', '1⁄2 red onion, thinly sliced', '1⁄2 bunch scallions, white and green parts, thinly sliced', '2 tablespoons fried shallots (store-bought is totally great)', '3 tablespoons salted butter', '4 slices rye bread', '4 slices good melting cheese', 'such as Colby Jack or Muenster']\n",
      "Metadata: {}\n",
      "--------------------\n",
      "Content: Title: Make-Ahead Freezer-to-Oven Chicken Packets, Ingredients: ['1 1/2 pounds packaged sliced boneless skinless chicken breast for stir-fry', '1/4 cup drained marinated sun-dried tomatoes, roughly chopped', '1/4 cup drained pickled onions, roughly chopped', '1/4 cup pitted green olives, halved', '1/4 cup roasted red pepper strips', '1 teaspoon dried thyme', '1/4 teaspoon red pepper flakes', '1 1/2 pounds packaged sliced boneless skinless chicken breast for stir-fry', '16 grape tomatoes, halved', '1 small yellow squash, cut in half lengthwise, then into 1/4-inch-thick half-moons', '1 medium shallot, cut in half, then sliced into thin half- moons', '3 tablespoons olive oil', '2 tablespoons dry white wine, vermouth, or chicken broth', '4 (3-inch) fresh rosemary sprigs', '4 (3-inch) multi-branched fresh thyme sprigs', '1/2 teaspoon table salt', '1/2 teaspoon ground black pepper', '1 1/2 pounds packaged sliced boneless skinless chicken breast for stir-fry', '1 medium red bell pepper, stemmed, cored, and cut into thin strips', '4 ounces fresh green beans, trimmed and cut into 1-inch pieces', '4 medium scallions, thinly sliced', '1/3 cup roasted unsalted peanuts or cashews', '2 tablespoons minced peeled fresh ginger', '1 teaspoon minced garlic', '2 tablespoons soy sauce (gluten-free if that is a concern)', '2 tablespoons unseasoned rice vinegar', '2 teaspoons toasted sesame oil', 'Up to 2 teaspoons hot red pepper sauce, such as Sriracha', '1 1/2 pounds packaged sliced boneless skinless chicken breast for stir-fry', '1 large Yukon Gold potato (about 8 ounces), shredded through the large holes of a box grater', '1 medium globe tomato, chopped', '1 small red onion, quartered and thinly sliced', '1/4 cup regular or low-fat plain yogurt', '1 teaspoon granulated white sugar', '1 teaspoon ground coriander', '1 teaspoon ground ginger', '1/2 teaspoon ground cinnamon', '1/2 teaspoon ground cumin', '1/2 teaspoon table salt', '1/4 teaspoon ground cloves', '1/4 teaspoon ground turmeric'], Instructions: Mix all the ingredients in a very large bowl until the meat is well-coated in a uniform sauce.\n",
      "Place a 12-inch piece of aluminum foil on your work surface; top with a 12-inch piece of parchment paper. Spoon a quarter of the chicken mixture into the middle of the parchment paper.\n",
      "Fold the long sides so they meet in the middle of the packet, then crimp these long edges together to make a tight seal, using the foil to catch and hold the waggly parchment paper in the seam. Roll both of the ends of the packet to seal as well. continue to make 3 more packets.\n",
      "Set the packets on a large baking sheet and freeze for at least 24 hours. Remove the sheet and stack the packets flat in the freezer.\n",
      "To bake, position the rack in the center of the oven and heat the oven to 425°F.\n",
      "Place 1 or more of the packets straight from the freezer on a large lipped baking sheet. Bake for about 30 minutes, or until hot and steamy inside. Cool for 10 minutes before opening and serving., Image_Name: make-ahead-freezer-to-oven-chicken-packets, Cleaned_Ingredients: ['1 1/2 pounds packaged sliced boneless skinless chicken breast for stir-fry', '1/4 cup drained marinated sun-dried tomatoes, roughly chopped', '1/4 cup drained pickled onions, roughly chopped', '1/4 cup pitted green olives, halved', '1/4 cup roasted red pepper strips', '1 teaspoon dried thyme', '1/4 teaspoon red pepper flakes', '1 1/2 pounds packaged sliced boneless skinless chicken breast for stir-fry', '16 grape tomatoes, halved', '1 small yellow squash, cut in half lengthwise, then into 1/4-inch-thick half-moons', '1 medium shallot, cut in half, then sliced into thin half- moons', '3 tablespoons olive oil', '2 tablespoons dry white wine, vermouth, or chicken broth', '4 (3-inch) fresh rosemary sprigs', '4 (3-inch) multi-branched fresh thyme sprigs', '1/2 teaspoon table salt', '1/2 teaspoon ground black pepper', '1 1/2 pounds packaged sliced boneless skinless chicken breast for stir-fry', '1 medium red bell pepper, stemmed, cored, and cut into thin strips', '4 ounces fresh green beans, trimmed and cut into 1-inch pieces', '4 medium scallions, thinly sliced', '1/3 cup roasted unsalted peanuts or cashews', '2 tablespoons minced peeled fresh ginger', '1 teaspoon minced garlic', '2 tablespoons soy sauce (gluten-free if that is a concern)', '2 tablespoons unseasoned rice vinegar', '2 teaspoons toasted sesame oil', 'Up to 2 teaspoons hot red pepper sauce, such as Sriracha', '1 1/2 pounds packaged sliced boneless skinless chicken breast for stir-fry', '1 large Yukon Gold potato (about 8 ounces), shredded through the large holes of a box grater', '1 medium globe tomato, chopped', '1 small red onion, quartered and thinly sliced', '1/4 cup regular or low-fat plain yogurt', '1 teaspoon granulated white sugar', '1 teaspoon ground coriander', '1 teaspoon ground ginger', '1/2 teaspoon ground cinnamon', '1/2 teaspoon ground cumin', '1/2 teaspoon table salt', '1/4 teaspoon ground cloves', '1/4 teaspoon ground turmeric']\n",
      "Metadata: {}\n",
      "--------------------\n",
      "Content: Title: Sheet-Pan Chicken Meatballs and Charred Broccoli, Ingredients: ['2/3 cup ketchup', '1/4 cup Worcestershire sauce', '2 Tbsp. rice cooking wine or water', '2 Tbsp. honey', '4 tsp. soy sauce', '1 1/2\" piece ginger, peeled, finely grated', '1/2 tsp. freshly ground black pepper', '2 heads of broccoli (about 1 1/2 lb.)', '2 Tbsp. vegetable oil, divided', '2 1/2 tsp. kosher salt, divided', 'Crushed red pepper flakes (optional)', '1 lb. ground chicken', '1 large egg, beaten to blend', '4 scallions, thinly sliced', '2 garlic cloves, finely grated', '1 (2\") piece ginger, peeled, finely grated', '1/3 cup panko (Japanese breadcrumbs)', '1 Tbsp. toasted sesame oil', '1/4 tsp. freshly ground black pepper', 'Cooked rice and sesame seeds (for serving)'], Instructions: Mix ketchup, Worcestershire sauce, wine (if using), honey, soy sauce, ginger, and pepper in a small saucepan. Measure out 1/4 cup mixture into a small bowl; set aside for glazing meatballs later. Bring remaining mixture to a simmer over medium-high heat, stirring occasionally and reducing heat if needed, until sauce thickens, about 5 minutes. Transfer sauce to a small bowl.\n",
      "Place a rack in upper third of oven; preheat to 450°F. Line a rimmed baking sheet with foil. Trim broccoli stems and remove from crown. Peel off tough outer skin; slice crosswise into 1/2\" pieces. Cut florets into 2\" pieces. Toss on prepared baking sheet with 1 Tbsp. vegetable oil, 1 tsp. salt, and a few pinches of red pepper flakes (if using). Push to the edges of baking sheet to create a space for meatballs. Brush space with remaining 1 Tbsp. vegetable oil.\n",
      "Mix chicken, egg, scallions, garlic, ginger, panko, sesame oil, pepper, remaining 1 1/2 tsp. salt, and 1/4 cup water in a medium bowl. Using wet hands, form into twelve 1 1/2\"-diameter meatballs. Arrange on baking sheet; brush with some of the reserved glazing mixture. Bake until meatballs are cooked through, 14–18 minutes. Remove from oven; heat broiler. Brush meatballs with remaining glazing mixture; broil until broccoli is charred and meatballs are browned in spots, about 5 minutes.\n",
      "Spoon meatballs and broccoli over rice in bowl. Drizzle with sauce and sprinkle with sesame seeds., Image_Name: sheet-pan-chicken-meatballs-and-charred-broccoli, Cleaned_Ingredients: ['2/3 cup ketchup', '1/4 cup Worcestershire sauce', '2 Tbsp. rice cooking wine or water', '2 Tbsp. honey', '4 tsp. soy sauce', '1 1/2\" piece ginger, peeled, finely grated', '1/2 tsp. freshly ground black pepper', '2 heads of broccoli (about 1 1/2 lb.)', '2 Tbsp. vegetable oil, divided', '2 1/2 tsp. kosher salt, divided', 'Crushed red pepper flakes (optional)', '1 lb. ground chicken', '1 large egg, beaten to blend', '4 scallions, thinly sliced', '2 garlic cloves, finely grated', '1 (2\") piece ginger, peeled, finely grated', '1/3 cup panko (Japanese breadcrumbs)', '1 Tbsp. toasted sesame oil', '1/4 tsp. freshly ground black pepper', 'Cooked rice and sesame seeds (for serving)']\n",
      "Metadata: {}\n",
      "--------------------\n"
     ]
    }
   ],
   "source": [
    "print(f\"\\n--- Query ---\")\n",
    "print(query)\n",
    "print(f\"\\n--- Retrieved Documents ---\")\n",
    "for doc in retrieved_docs:\n",
    "    print(\"Content:\", doc.page_content)\n",
    "    print(\"Metadata:\", doc.metadata)\n",
    "    print(\"-\" * 20)"
   ]
  }
 ],
 "metadata": {
  "kernelspec": {
   "display_name": "Python 3",
   "language": "python",
   "name": "python3"
  },
  "language_info": {
   "codemirror_mode": {
    "name": "ipython",
    "version": 3
   },
   "file_extension": ".py",
   "mimetype": "text/x-python",
   "name": "python",
   "nbconvert_exporter": "python",
   "pygments_lexer": "ipython3",
   "version": "3.13.5"
  }
 },
 "nbformat": 4,
 "nbformat_minor": 5
}
